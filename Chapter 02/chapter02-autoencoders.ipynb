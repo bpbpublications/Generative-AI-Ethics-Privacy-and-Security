{
 "cells": [
  {
   "cell_type": "markdown",
   "id": "cfd2e982",
   "metadata": {},
   "source": [
    "# Autoencoders example"
   ]
  },
  {
   "cell_type": "markdown",
   "id": "52853957",
   "metadata": {},
   "source": [
    "import the necessary libraries for working with PyTorch, including torch for tensor operations, nn for neural network modules, torchvision for datasets and transforms, and matplotlib.pyplot for plotting."
   ]
  },
  {
   "cell_type": "code",
   "execution_count": 2,
   "id": "4b7ba2c8",
   "metadata": {},
   "outputs": [
    {
     "name": "stderr",
     "output_type": "stream",
     "text": [
      "/home/ec2-user/anaconda3/envs/python3/lib/python3.10/site-packages/torch/cuda/__init__.py:619: UserWarning: Can't initialize NVML\n",
      "  warnings.warn(\"Can't initialize NVML\")\n"
     ]
    }
   ],
   "source": [
    "\n",
    "import torch\n",
    "import torch.nn as nn\n",
    "import torchvision\n",
    "import torchvision.transforms as transforms\n",
    "import matplotlib.pyplot as plt"
   ]
  },
  {
   "cell_type": "markdown",
   "id": "9496d90c",
   "metadata": {},
   "source": [
    "Sets the device to either GPU ('cuda') if available, otherwise, it uses the CPU ('cpu')"
   ]
  },
  {
   "cell_type": "code",
   "execution_count": 3,
   "id": "cc3f5f80",
   "metadata": {},
   "outputs": [],
   "source": [
    "# Device configuration\n",
    "device = torch.device('cuda' if torch.cuda.is_available() else 'cpu')"
   ]
  },
  {
   "cell_type": "markdown",
   "id": "782deb3d",
   "metadata": {},
   "source": [
    "Define hyperparameters for the autoencoder model, including the input size (28x28 = 784), the size of the hidden layer, the number of epochs for training, the batch size for data loading, and the learning rate for optimization."
   ]
  },
  {
   "cell_type": "code",
   "execution_count": 4,
   "id": "c0b9bbb8",
   "metadata": {},
   "outputs": [],
   "source": [
    "# Hyper-parameters\n",
    "input_size = 784\n",
    "hidden_size = 256\n",
    "num_epochs = 10\n",
    "batch_size = 100\n",
    "learning_rate = 0.001\n"
   ]
  },
  {
   "cell_type": "markdown",
   "id": "ffa57516",
   "metadata": {},
   "source": [
    "Loads the MNIST dataset from torchvision.datasets.MNIST. It also applies a transformation to convert the images to PyTorch tensors."
   ]
  },
  {
   "cell_type": "code",
   "execution_count": 5,
   "id": "5bf5189a",
   "metadata": {},
   "outputs": [],
   "source": [
    "\n",
    "# MNIST dataset\n",
    "train_dataset = torchvision.datasets.MNIST(root='./data',\n",
    "                                           train=True,\n",
    "                                           transform=transforms.ToTensor(),\n",
    "                                           download=True)\n",
    "\n",
    "\n"
   ]
  },
  {
   "cell_type": "markdown",
   "id": "4a5d0adc",
   "metadata": {},
   "source": [
    "Creates a DataLoader object for batching and shuffling the training dataset.\n"
   ]
  },
  {
   "cell_type": "code",
   "execution_count": 6,
   "id": "a5bd57e5",
   "metadata": {},
   "outputs": [],
   "source": [
    "train_loader = torch.utils.data.DataLoader(dataset=train_dataset,\n",
    "                                           batch_size=batch_size,\n",
    "                                           shuffle=True)"
   ]
  },
  {
   "cell_type": "markdown",
   "id": "b9b9a79c",
   "metadata": {},
   "source": [
    "Defines the autoencoder model as a subclass of nn.Module. It consists of an encoder and a decoder, each implemented as a Sequential container of neural network layers. The encoder uses a linear layer followed by a ReLU activation function, while the decoder uses a linear layer followed by a Sigmoid activation function."
   ]
  },
  {
   "cell_type": "code",
   "execution_count": 7,
   "id": "4e5f486c",
   "metadata": {},
   "outputs": [],
   "source": [
    "# Autoencoder model\n",
    "class Autoencoder(nn.Module):\n",
    "    def __init__(self, input_size, hidden_size):\n",
    "        super(Autoencoder, self).__init__()\n",
    "        self.encoder = nn.Sequential(\n",
    "            nn.Linear(input_size, hidden_size),\n",
    "            nn.ReLU())\n",
    "        self.decoder = nn.Sequential(\n",
    "            nn.Linear(hidden_size, input_size),\n",
    "            nn.Sigmoid())\n",
    "\n",
    "    def forward(self, x):\n",
    "        x = self.encoder(x)\n",
    "        x = self.decoder(x)\n",
    "        return x"
   ]
  },
  {
   "cell_type": "markdown",
   "id": "46bcc2fd",
   "metadata": {},
   "source": [
    "Creates an instance of the Autoencoder class and moves it to the specified device (GPU or CPU)."
   ]
  },
  {
   "cell_type": "code",
   "execution_count": 8,
   "id": "2b44a183",
   "metadata": {},
   "outputs": [],
   "source": [
    "model = Autoencoder(input_size, hidden_size).to(device)\n"
   ]
  },
  {
   "cell_type": "markdown",
   "id": "6f69a6f4",
   "metadata": {},
   "source": [
    "Define the loss function (Mean Squared Error) and the optimizer (Adam) for training the autoencoder model."
   ]
  },
  {
   "cell_type": "code",
   "execution_count": 10,
   "id": "ab92cd1b",
   "metadata": {},
   "outputs": [],
   "source": [
    "# Loss and optimizer\n",
    "criterion = nn.MSELoss()\n",
    "optimizer = torch.optim.Adam(model.parameters(), lr=learning_rate)"
   ]
  },
  {
   "cell_type": "markdown",
   "id": "6699e6b0",
   "metadata": {},
   "source": [
    "Perform the training loop over the specified number of epochs. Within each epoch, it iterates through batches of data from the DataLoader, computes the output of the autoencoder, calculates the loss between the input and reconstructed output, performs backpropagation to update the model parameters, and prints the loss for monitoring training progress."
   ]
  },
  {
   "cell_type": "code",
   "execution_count": 11,
   "id": "7ddb620f",
   "metadata": {},
   "outputs": [
    {
     "name": "stdout",
     "output_type": "stream",
     "text": [
      "Epoch [1/10], Loss: 0.0096\n",
      "Epoch [2/10], Loss: 0.0048\n",
      "Epoch [3/10], Loss: 0.0029\n",
      "Epoch [4/10], Loss: 0.0025\n",
      "Epoch [5/10], Loss: 0.0019\n",
      "Epoch [6/10], Loss: 0.0019\n",
      "Epoch [7/10], Loss: 0.0017\n",
      "Epoch [8/10], Loss: 0.0013\n",
      "Epoch [9/10], Loss: 0.0013\n",
      "Epoch [10/10], Loss: 0.0014\n"
     ]
    }
   ],
   "source": [
    "# Training the autoencoder\n",
    "for epoch in range(num_epochs):\n",
    "    for data in train_loader:\n",
    "        img, _ = data\n",
    "        img = img.view(img.size(0), -1)\n",
    "        img = img.to(device)\n",
    "\n",
    "        # Forward pass\n",
    "        output = model(img)\n",
    "        loss = criterion(output, img)\n",
    "\n",
    "        # Backward pass and optimization\n",
    "        optimizer.zero_grad()\n",
    "        loss.backward()\n",
    "        optimizer.step()\n",
    "\n",
    "    print(f'Epoch [{epoch+1}/{num_epochs}], Loss: {loss.item():.4f}')\n",
    "\n",
    "\n",
    "\n",
    "\n"
   ]
  },
  {
   "cell_type": "markdown",
   "id": "8f282d3d",
   "metadata": {},
   "source": [
    "Test the trained autoencoder on a batch of data from the training loader. It computes the output of the autoencoder for the input images."
   ]
  },
  {
   "cell_type": "code",
   "execution_count": 12,
   "id": "8c4690f2",
   "metadata": {},
   "outputs": [],
   "source": [
    "# Test the autoencoder\n",
    "with torch.no_grad():\n",
    "    for data in train_loader:\n",
    "        img, _ = data\n",
    "        img = img.view(img.size(0), -1)\n",
    "        img = img.to(device)\n",
    "        output = model(img)\n",
    "        break"
   ]
  },
  {
   "cell_type": "markdown",
   "id": "428b1ebb",
   "metadata": {},
   "source": [
    "Visualize a few original and reconstructed images from the test batch using matplotlib. It plots the original images in the top row and their corresponding reconstructed images in the bottom row."
   ]
  },
  {
   "cell_type": "code",
   "execution_count": 13,
   "id": "b4c3b6bc",
   "metadata": {},
   "outputs": [
    {
     "data": {
      "image/png": "[encoded data removed]",
      "text/plain": [
       "<Figure size 640x480 with 10 Axes>"
      ]
     },
     "metadata": {},
     "output_type": "display_data"
    }
   ],
   "source": [
    "\n",
    "# Visualize input and output images\n",
    "num_images = 5\n",
    "for i in range(num_images):\n",
    "    # Original image\n",
    "    plt.subplot(2, num_images, i + 1)\n",
    "    plt.imshow(img[i].cpu().numpy().reshape(28, 28), cmap='gray')\n",
    "    plt.title('Original')\n",
    "    plt.axis('off')\n",
    "\n",
    "    # Reconstructed image\n",
    "    plt.subplot(2, num_images, i + 1 + num_images)\n",
    "    plt.imshow(output[i].cpu().numpy().reshape(28, 28), cmap='gray')\n",
    "    plt.title('Reconstructed')\n",
    "    plt.axis('off')\n",
    "\n",
    "plt.show()\n"
   ]
  },
  {
   "cell_type": "code",
   "execution_count": null,
   "id": "4775afc3",
   "metadata": {},
   "outputs": [],
   "source": []
  },
  {
   "cell_type": "code",
   "execution_count": null,
   "id": "5318f109",
   "metadata": {},
   "outputs": [],
   "source": []
  },
  {
   "cell_type": "code",
   "execution_count": null,
   "id": "3cae9fe8",
   "metadata": {},
   "outputs": [],
   "source": []
  },
  {
   "cell_type": "code",
   "execution_count": null,
   "id": "3f951190",
   "metadata": {},
   "outputs": [],
   "source": []
  },
  {
   "cell_type": "code",
   "execution_count": null,
   "id": "88b95494",
   "metadata": {},
   "outputs": [],
   "source": []
  },
  {
   "cell_type": "code",
   "execution_count": null,
   "id": "eebf408d",
   "metadata": {},
   "outputs": [],
   "source": []
  }
 ],
 "metadata": {
  "kernelspec": {
   "display_name": "conda_python3",
   "language": "python",
   "name": "conda_python3"
  },
  "language_info": {
   "codemirror_mode": {
    "name": "ipython",
    "version": 3
   },
   "file_extension": ".py",
   "mimetype": "text/x-python",
   "name": "python",
   "nbconvert_exporter": "python",
   "pygments_lexer": "ipython3",
   "version": "3.10.13"
  }
 },
 "nbformat": 4,
 "nbformat_minor": 5
}
