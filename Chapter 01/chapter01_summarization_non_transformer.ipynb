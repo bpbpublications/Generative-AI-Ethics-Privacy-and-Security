{
 "cells": [
  {
   "cell_type": "markdown",
   "id": "c6c4785a",
   "metadata": {},
   "source": [
    "# Summarization without Transformer\n",
    "\n",
    "Generating summaries without the help of powerful pre-trained models and libraries like Transformers can be quite challenging and cumbersome. Let's go through a simple example using traditional NLP techniques without any pre-trained models"
   ]
  },
  {
   "cell_type": "code",
   "execution_count": 1,
   "id": "1d4185e7",
   "metadata": {},
   "outputs": [],
   "source": [
    "import re\n",
    "import nltk\n",
    "from nltk.corpus import stopwords\n",
    "from nltk.tokenize import sent_tokenize, word_tokenize\n",
    "from string import punctuation"
   ]
  },
  {
   "cell_type": "markdown",
   "id": "f3bbc8b3",
   "metadata": {},
   "source": [
    "We start by downloading the required NLTK data for stopwords and sentence tokenization"
   ]
  },
  {
   "cell_type": "code",
   "execution_count": 2,
   "id": "d2dbf605",
   "metadata": {},
   "outputs": [
    {
     "name": "stderr",
     "output_type": "stream",
     "text": [
      "[nltk_data] Downloading package stopwords to\n",
      "[nltk_data]     /home/ec2-user/nltk_data...\n",
      "[nltk_data]   Unzipping corpora/stopwords.zip.\n",
      "[nltk_data] Downloading package punkt to /home/ec2-user/nltk_data...\n",
      "[nltk_data]   Unzipping tokenizers/punkt.zip.\n"
     ]
    },
    {
     "data": {
      "text/plain": [
       "True"
      ]
     },
     "execution_count": 2,
     "metadata": {},
     "output_type": "execute_result"
    }
   ],
   "source": [
    "\n",
    "# Download required NLTK data\n",
    "nltk.download('stopwords')\n",
    "nltk.download('punkt')"
   ]
  },
  {
   "cell_type": "code",
   "execution_count": null,
   "id": "f4beeb77",
   "metadata": {},
   "outputs": [],
   "source": []
  },
  {
   "cell_type": "code",
   "execution_count": 3,
   "id": "537df83a",
   "metadata": {},
   "outputs": [],
   "source": [
    "# Example article\n",
    "article = \"\"\"\n",
    "The Astonishing Hypothesis is a 1994 book by scientist Francis Crick about consciousness and neuroscience. In it, Crick promotes the idea that consciousness is produced by physical and chemical processes in the brain, and that neuroscience will eventually have a theory which can explain consciousness. The book surveys the history of research into consciousness and outlines several hypotheses about the neural correlates of various components and properties of consciousness.\n",
    "\"\"\""
   ]
  },
  {
   "cell_type": "markdown",
   "id": "ff2ef99e",
   "metadata": {},
   "source": [
    "We tokenize the article into sentences using sent_tokenize"
   ]
  },
  {
   "cell_type": "code",
   "execution_count": 7,
   "id": "9dbf2445",
   "metadata": {},
   "outputs": [],
   "source": [
    "# Tokenize sentences\n",
    "sentences = sent_tokenize(article)"
   ]
  },
  {
   "cell_type": "markdown",
   "id": "373f7f21",
   "metadata": {},
   "source": [
    "We then tokenize each sentence into words using word_tokenize, convert them to lowercase, and remove stopwords and punctuation."
   ]
  },
  {
   "cell_type": "code",
   "execution_count": 8,
   "id": "f5b84233",
   "metadata": {},
   "outputs": [],
   "source": [
    "# Tokenize words and remove stopwords/punctuation\n",
    "word_tokens = [word_tokenize(sentence.lower()) for sentence in sentences]\n",
    "filtered_words = []\n",
    "for words in word_tokens:\n",
    "    filtered_words.append([word for word in words if word not in stopwords.words('english') and word not in list(punctuation)])\n"
   ]
  },
  {
   "cell_type": "markdown",
   "id": "d401b598",
   "metadata": {},
   "source": [
    "We calculate the frequency of each word in the article"
   ]
  },
  {
   "cell_type": "code",
   "execution_count": 9,
   "id": "f76a6484",
   "metadata": {},
   "outputs": [],
   "source": [
    "# Calculate word frequencies\n",
    "word_freq = {}\n",
    "for words in filtered_words:\n",
    "    for word in words:\n",
    "        if word in word_freq:\n",
    "            word_freq[word] += 1\n",
    "        else:\n",
    "            word_freq[word] = 1"
   ]
  },
  {
   "cell_type": "markdown",
   "id": "6b410e00",
   "metadata": {},
   "source": [
    "For each sentence, we calculate a score by summing the frequencies of the words it contains"
   ]
  },
  {
   "cell_type": "code",
   "execution_count": 10,
   "id": "03ce9fc3",
   "metadata": {},
   "outputs": [],
   "source": [
    "# Calculate sentence scores\n",
    "sentence_scores = {}\n",
    "for i, sentence in enumerate(sentences):\n",
    "    for word in word_tokenize(sentence.lower()):\n",
    "        if word in word_freq.keys():\n",
    "            if i in sentence_scores:\n",
    "                sentence_scores[i] += word_freq[word]\n",
    "            else:\n",
    "                sentence_scores[i] = word_freq[word]\n",
    "\n"
   ]
  },
  {
   "cell_type": "markdown",
   "id": "526c6f1b",
   "metadata": {},
   "source": [
    "We sort the sentences by their scores in descending order and select the top N (in this case, 3) sentences as the summary. \n",
    "\n",
    "Finally, we join the selected sentences into a single string and print it as the summary"
   ]
  },
  {
   "cell_type": "code",
   "execution_count": 11,
   "id": "955fdf5a",
   "metadata": {},
   "outputs": [
    {
     "name": "stdout",
     "output_type": "stream",
     "text": [
      "Summary: In it, Crick promotes the idea that consciousness is produced by physical and chemical processes in the brain, and that neuroscience will eventually have a theory which can explain consciousness. The book surveys the history of research into consciousness and outlines several hypotheses about the neural correlates of various components and properties of consciousness. \n",
      "The Astonishing Hypothesis is a 1994 book by scientist Francis Crick about consciousness and neuroscience.\n"
     ]
    }
   ],
   "source": [
    "# Select top N sentences as the summary\n",
    "N = 3\n",
    "summary_sentences = sorted(sentence_scores.items(), key=lambda x: x[1], reverse=True)[:N]\n",
    "summary = ' '.join([sentences[idx] for idx, _ in summary_sentences])\n",
    "\n",
    "print(f\"Summary: {summary}\")"
   ]
  },
  {
   "cell_type": "code",
   "execution_count": null,
   "id": "62fa6958",
   "metadata": {},
   "outputs": [],
   "source": []
  }
 ],
 "metadata": {
  "kernelspec": {
   "display_name": "conda_python3",
   "language": "python",
   "name": "conda_python3"
  },
  "language_info": {
   "codemirror_mode": {
    "name": "ipython",
    "version": 3
   },
   "file_extension": ".py",
   "mimetype": "text/x-python",
   "name": "python",
   "nbconvert_exporter": "python",
   "pygments_lexer": "ipython3",
   "version": "3.10.13"
  }
 },
 "nbformat": 4,
 "nbformat_minor": 5
}
