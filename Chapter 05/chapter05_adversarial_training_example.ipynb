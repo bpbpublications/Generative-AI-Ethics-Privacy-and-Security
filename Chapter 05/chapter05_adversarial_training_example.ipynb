{
 "cells": [
  {
   "cell_type": "markdown",
   "id": "6c1902b9",
   "metadata": {},
   "source": [
    "# Adversarial Example"
   ]
  },
  {
   "cell_type": "markdown",
   "id": "aae8ed72",
   "metadata": {},
   "source": [
    "This code demonstrates how to integrate adversarial training using the ART library with a simple CNN model trained on the MNIST dataset using PyTorch. It covers data loading, model definition, ART integration for adversarial attacks, adversarial example generation, training loop alternating between original and adversarial examples, evaluation on test sets, and visualization of training and test accuracies. This approach helps improve the robustness of the model against adversarial attacks, contributing to more reliable and secure AI systems."
   ]
  },
  {
   "cell_type": "code",
   "execution_count": 1,
   "id": "969ee14d",
   "metadata": {},
   "outputs": [],
   "source": [
    "!pip install art adversarial-robustness-toolbox torch torchvision --quiet"
   ]
  },
  {
   "cell_type": "code",
   "execution_count": 2,
   "id": "cd51b9c3",
   "metadata": {},
   "outputs": [],
   "source": [
    "!pip install --upgrade adversarial-robustness-toolbox --quiet\n"
   ]
  },
  {
   "cell_type": "markdown",
   "id": "b697dcdf",
   "metadata": {},
   "source": [
    "## Import necessary libraries \n",
    "\n",
    "PyTorch for deep learning operations (torch), neural network modules (nn), optimization algorithms (optim), functional operations (F), data handling utilities from torchvision (datasets, transforms), data loading utilities (DataLoader, TensorDataset), and matplotlib for plotting (plt)."
   ]
  },
  {
   "cell_type": "code",
   "execution_count": null,
   "id": "aff15aac",
   "metadata": {},
   "outputs": [
    {
     "name": "stderr",
     "output_type": "stream",
     "text": [
      "/home/ec2-user/anaconda3/envs/python3/lib/python3.10/site-packages/torch/cuda/__init__.py:619: UserWarning: Can't initialize NVML\n",
      "  warnings.warn(\"Can't initialize NVML\")\n",
      "Matplotlib is building the font cache; this may take a moment.\n"
     ]
    }
   ],
   "source": [
    "import numpy as np\n",
    "import torch\n",
    "import torch.nn as nn\n",
    "import torch.optim as optim\n",
    "import torch.nn.functional as F\n",
    "from torchvision import datasets, transforms\n",
    "from torch.utils.data import DataLoader, TensorDataset\n",
    "import matplotlib.pyplot as plt\n",
    "\n",
    "# Install the ART library if you haven't already\n",
    "from art.estimators.classification import PyTorchClassifier\n",
    "from art.attacks.evasion import ProjectedGradientDescent"
   ]
  },
  {
   "cell_type": "markdown",
   "id": "92ba7929",
   "metadata": {},
   "source": [
    "## Data Loading\n",
    "\n",
    "- transforms.Compose: Compose transformations to apply to the MNIST dataset. Here, it converts images to PyTorch tensors (ToTensor()) and normalizes them to have a mean of 0.5 and standard deviation of 0.5 (Normalize((0.5,), (0.5,)))\n",
    "- datasets.MNIST: Load MNIST dataset, both training and test sets, applying the defined transformations (transform)\n",
    "- DataLoader: Create data loaders for training and test datasets, which handle batching, shuffling, and loading of data batches (batch_size=128)\n"
   ]
  },
  {
   "cell_type": "code",
   "execution_count": null,
   "id": "0e0fa3a1",
   "metadata": {},
   "outputs": [],
   "source": [
    "# Load and preprocess the MNIST dataset\n",
    "transform = transforms.Compose([transforms.ToTensor(), transforms.Normalize((0.5,), (0.5,))])\n",
    "\n",
    "train_dataset = datasets.MNIST(root='./data', train=True, download=True, transform=transform)\n",
    "test_dataset = datasets.MNIST(root='./data', train=False, download=True, transform=transform)\n",
    "\n",
    "train_loader = DataLoader(train_dataset, batch_size=32, shuffle=True)\n",
    "test_loader = DataLoader(test_dataset, batch_size=32, shuffle=False)"
   ]
  },
  {
   "cell_type": "markdown",
   "id": "b3615c01",
   "metadata": {},
   "source": [
    "## Model Architecture\n",
    "\n",
    "- Define a simple convolutional neural network (SimpleCNN) using PyTorch's nn.Module\n",
    "\n",
    "        1. __init__: Define layers including two convolutional layers (conv1, conv2) followed by max pooling, and two  fully connected layers (fc1, fc2).\n",
    "        \n",
    "        2. forward: Define the forward pass of the network where input x passes through convolutional layers with ReLU activation, max pooling, and fully connected layers with ReLU activation for feature extraction and classification."
   ]
  },
  {
   "cell_type": "code",
   "execution_count": null,
   "id": "4f365614",
   "metadata": {},
   "outputs": [],
   "source": [
    "class SimpleCNN(nn.Module):\n",
    "    def __init__(self):\n",
    "        super(SimpleCNN, self).__init__()\n",
    "        self.conv1 = nn.Conv2d(1, 32, kernel_size=3)\n",
    "        self.conv2 = nn.Conv2d(32, 64, kernel_size=3)\n",
    "        self.fc1 = nn.Linear(64*5*5, 128)\n",
    "        self.fc2 = nn.Linear(128, 10)\n",
    "\n",
    "    def forward(self, x):\n",
    "        x = F.relu(self.conv1(x))\n",
    "        x = F.max_pool2d(x, 2)\n",
    "        x = F.relu(self.conv2(x))\n",
    "        x = F.max_pool2d(x, 2)\n",
    "        x = x.view(-1, 64*5*5)\n",
    "        x = F.relu(self.fc1(x))\n",
    "        x = self.fc2(x)\n",
    "        return x"
   ]
  },
  {
   "cell_type": "markdown",
   "id": "8d4f386e",
   "metadata": {},
   "source": [
    "## Initialization\n",
    "\n",
    "- Initialize an instance of SimpleCNN as model\n",
    "- Define CrossEntropyLoss as the loss function (criterion), which is suitable for multi-class classification tasks\n",
    "- Use the Adam optimizer (optim.Adam) to optimize model parameters (model.parameters()) with a learning rate of 0.001\n",
    "\n",
    "## ART Integration\n",
    "- Use PyTorchClassifier from ART to wrap the PyTorch model (model)\n",
    "- Parameters include model, clip values for input normalization (clip_values=(0, 1)), loss function (loss=criterion), optimizer (optimizer), input shape (input_shape=(1, 28, 28) for MNIST images), and number of classes (nb_classes=10 for MNIST digits 0-9)."
   ]
  },
  {
   "cell_type": "code",
   "execution_count": null,
   "id": "bdaca3aa",
   "metadata": {},
   "outputs": [],
   "source": [
    "# Initialize the model, loss function, and optimizer\n",
    "model = SimpleCNN()\n",
    "criterion = nn.CrossEntropyLoss()\n",
    "optimizer = optim.Adam(model.parameters(), lr=0.001)\n",
    "\n",
    "# Wrap the PyTorch model with ART's PyTorchClassifier\n",
    "classifier = PyTorchClassifier(\n",
    "    model=model,\n",
    "    clip_values=(0, 1),\n",
    "    loss=criterion,\n",
    "    optimizer=optimizer,\n",
    "    input_shape=(1, 28, 28),\n",
    "    nb_classes=10,\n",
    ")"
   ]
  },
  {
   "cell_type": "markdown",
   "id": "0af744f0",
   "metadata": {},
   "source": [
    "## Adversarial Attack:\n",
    "\n",
    "- Use ProjectedGradientDescent from ART as an attack method (attack) to generate adversarial examples (attack.generate)\n",
    "- Parameters include the ART classifier (estimator=classifier), perturbation size (eps=0.3), step size (eps_step=0.01), and maximum iterations (max_iter=40)"
   ]
  },
  {
   "cell_type": "code",
   "execution_count": null,
   "id": "f371a0dd",
   "metadata": {},
   "outputs": [],
   "source": [
    "\n",
    "# Create the ProjectedGradientDescent attack object\n",
    "attack = ProjectedGradientDescent(estimator=classifier, eps=0.3, eps_step=0.01, max_iter=40)"
   ]
  },
  {
   "cell_type": "markdown",
   "id": "6824bd12",
   "metadata": {},
   "source": [
    "## Data Conversion\n",
    "\n",
    "- Convert PyTorch tensors to numpy arrays (x_train, x_test) for attack generation and adversarial training"
   ]
  },
  {
   "cell_type": "code",
   "execution_count": null,
   "id": "5ed9d6fc",
   "metadata": {},
   "outputs": [],
   "source": [
    "# Convert the data to ART format for attack generation\n",
    "x_train = np.array([data[0].numpy() for data in train_dataset])\n",
    "y_train = np.array([data[1] for data in train_dataset])\n",
    "x_test = np.array([data[0].numpy() for data in test_dataset])\n",
    "y_test = np.array([data[1] for data in test_dataset])"
   ]
  },
  {
   "cell_type": "code",
   "execution_count": null,
   "id": "319ad92d",
   "metadata": {},
   "outputs": [
    {
     "data": {
      "application/vnd.jupyter.widget-view+json": {
       "model_id": "",
       "version_major": 2,
       "version_minor": 0
      },
      "text/plain": [
       "PGD - Batches:   0%|          | 0/1875 [00:00<?, ?it/s]"
      ]
     },
     "metadata": {},
     "output_type": "display_data"
    },
    {
     "data": {
      "application/vnd.jupyter.widget-view+json": {
       "model_id": "",
       "version_major": 2,
       "version_minor": 0
      },
      "text/plain": [
       "PGD - Batches:   0%|          | 0/313 [00:00<?, ?it/s]"
      ]
     },
     "metadata": {},
     "output_type": "display_data"
    }
   ],
   "source": [
    "\n",
    "# Generate adversarial examples for the training and test sets\n",
    "x_train_adv = attack.generate(x=x_train)\n",
    "x_test_adv = attack.generate(x=x_test)"
   ]
  },
  {
   "cell_type": "markdown",
   "id": "24ffc65e",
   "metadata": {},
   "source": [
    "## Training and Evaluation\n",
    "\n",
    "- Epoch Loop: Iterate over a fixed number of epochs (epochs=5)\n",
    "\n",
    "- Training Phase\n",
    "\n",
    "1. Original Examples: Train the model on original examples (train_loader) by calculating loss (criterion), computing gradients (loss.backward()), and updating model parameters (optimizer.step())\n",
    "\n",
    "2. Adversarial Examples: Evaluate training accuracy on both original and adversarial examples (x_train, x_train_adv). Use torch.tensor to convert numpy arrays to PyTorch tensors, perform forward pass (model(data)), predict classes (torch.argmax), and calculate accuracy\n",
    "\n",
    "- Adversarial Training\n",
    "\n",
    "1. Convert adversarial examples to TensorDataset (adv_dataset) and use DataLoader (adv_loader) for adversarial training (for batch_idx, (data, target) in enumerate(adv_loader))\n",
    "\n",
    "- Test Phase\n",
    "\n",
    "1. Original Examples: Evaluate test accuracy on original examples (test_loader)\n",
    "\n",
    "2. Adversarial Examples: Evaluate test accuracy on adversarial examples (x_test, x_test_adv)"
   ]
  },
  {
   "cell_type": "code",
   "execution_count": null,
   "id": "2d54fb01",
   "metadata": {},
   "outputs": [
    {
     "name": "stdout",
     "output_type": "stream",
     "text": [
      "Epoch 1/5\n",
      "Epoch 2/5\n",
      "Epoch 3/5\n",
      "Epoch 4/5\n",
      "Epoch 5/5\n"
     ]
    }
   ],
   "source": [
    "# Adversarial training: train on both original and adversarial examples\n",
    "epochs = 5\n",
    "batch_size = 32\n",
    "\n",
    "train_acc_orig = []\n",
    "train_acc_adv = []\n",
    "test_acc_orig = []\n",
    "test_acc_adv = []\n",
    "\n",
    "for epoch in range(epochs):\n",
    "    print(f'Epoch {epoch + 1}/{epochs}')\n",
    "    \n",
    "    # Train on original examples\n",
    "    model.train()\n",
    "    for batch_idx, (data, target) in enumerate(train_loader):\n",
    "        optimizer.zero_grad()\n",
    "        output = model(data)\n",
    "        loss = criterion(output, target)\n",
    "        loss.backward()\n",
    "        optimizer.step()\n",
    "    \n",
    "    # Evaluate training accuracy on original and adversarial examples\n",
    "    model.eval()\n",
    "    with torch.no_grad():\n",
    "        # Original examples\n",
    "        train_preds_orig = torch.argmax(model(torch.tensor(x_train).float()), dim=1).numpy()\n",
    "        train_acc_orig.append(np.mean(train_preds_orig == y_train))\n",
    "        \n",
    "        # Adversarial examples\n",
    "        train_preds_adv = torch.argmax(model(torch.tensor(x_train_adv).float()), dim=1).numpy()\n",
    "        train_acc_adv.append(np.mean(train_preds_adv == y_train))\n",
    "    \n",
    "    # Train on adversarial examples\n",
    "    adv_dataset = TensorDataset(torch.tensor(x_train_adv).float(), torch.tensor(y_train))\n",
    "    adv_loader = DataLoader(adv_dataset, batch_size=batch_size, shuffle=True)\n",
    "    for batch_idx, (data, target) in enumerate(adv_loader):\n",
    "        optimizer.zero_grad()\n",
    "        output = model(data)\n",
    "        loss = criterion(output, target)\n",
    "        loss.backward()\n",
    "        optimizer.step()\n",
    "    \n",
    "    # Evaluate test accuracy on original and adversarial examples\n",
    "    model.eval()\n",
    "    with torch.no_grad():\n",
    "        # Original examples\n",
    "        test_preds_orig = torch.argmax(model(torch.tensor(x_test).float()), dim=1).numpy()\n",
    "        test_acc_orig.append(np.mean(test_preds_orig == y_test))\n",
    "        \n",
    "        # Adversarial examples\n",
    "        test_preds_adv = torch.argmax(model(torch.tensor(x_test_adv).float()), dim=1).numpy()\n",
    "        test_acc_adv.append(np.mean(test_preds_adv == y_test))"
   ]
  },
  {
   "cell_type": "markdown",
   "id": "45593f7d",
   "metadata": {},
   "source": [
    "## Visualization\n",
    "\n",
    "- Plot training and test accuracies (train_acc_orig, train_acc_adv, test_acc_orig, test_acc_adv) over epochs (epochs_range) using matplotlib (plt)\n",
    "\n",
    "- Customize plot with labels, title, markers, and legend to visualize the performance of the model on original and adversarial examples"
   ]
  },
  {
   "cell_type": "code",
   "execution_count": 12,
   "id": "8a8b2aec",
   "metadata": {},
   "outputs": [
    {
     "data": {
      "image/png": "[encoded data removed]",
      "text/plain": [
       "<Figure size 1000x600 with 1 Axes>"
      ]
     },
     "metadata": {},
     "output_type": "display_data"
    }
   ],
   "source": [
    "\n",
    "# Plotting the results\n",
    "epochs_range = range(1, epochs + 1)\n",
    "plt.figure(figsize=(10, 6))\n",
    "plt.plot(epochs_range, train_acc_orig, label='Train Accuracy (Original)')\n",
    "plt.plot(epochs_range, train_acc_adv, label='Train Accuracy (Adversarial)')\n",
    "plt.plot(epochs_range, test_acc_orig, label='Test Accuracy (Original)')\n",
    "plt.plot(epochs_range, test_acc_adv, label='Test Accuracy (Adversarial)')\n",
    "plt.title('Accuracy of CNN on MNIST with Adversarial Training')\n",
    "plt.xlabel('Epoch')\n",
    "plt.ylabel('Accuracy')\n",
    "plt.legend()\n",
    "plt.grid(True)\n",
    "plt.xticks(epochs_range)\n",
    "plt.tight_layout()\n",
    "\n",
    "# Save plot in high resolution (300 dpi) as PNG file\n",
    "plt.savefig('accuracy_mnist_adversarial.png', dpi=300)\n",
    "plt.show()\n"
   ]
  },
  {
   "cell_type": "code",
   "execution_count": null,
   "id": "5933752d",
   "metadata": {},
   "outputs": [],
   "source": []
  },
  {
   "cell_type": "code",
   "execution_count": null,
   "id": "f50759ea",
   "metadata": {},
   "outputs": [],
   "source": []
  },
  {
   "cell_type": "code",
   "execution_count": null,
   "id": "81718ae3",
   "metadata": {},
   "outputs": [],
   "source": []
  },
  {
   "cell_type": "code",
   "execution_count": null,
   "id": "c01ad191",
   "metadata": {},
   "outputs": [],
   "source": []
  },
  {
   "cell_type": "code",
   "execution_count": null,
   "id": "adbc4154",
   "metadata": {},
   "outputs": [],
   "source": []
  },
  {
   "cell_type": "code",
   "execution_count": null,
   "id": "724bde8e",
   "metadata": {},
   "outputs": [],
   "source": []
  },
  {
   "cell_type": "code",
   "execution_count": null,
   "id": "80479239",
   "metadata": {},
   "outputs": [],
   "source": []
  },
  {
   "cell_type": "code",
   "execution_count": null,
   "id": "0d464778",
   "metadata": {},
   "outputs": [],
   "source": []
  },
  {
   "cell_type": "code",
   "execution_count": null,
   "id": "01b5c0aa",
   "metadata": {},
   "outputs": [],
   "source": []
  },
  {
   "cell_type": "code",
   "execution_count": null,
   "id": "39decc8d",
   "metadata": {},
   "outputs": [],
   "source": []
  },
  {
   "cell_type": "code",
   "execution_count": null,
   "id": "c3323a09",
   "metadata": {},
   "outputs": [],
   "source": []
  },
  {
   "cell_type": "code",
   "execution_count": null,
   "id": "8ad43144",
   "metadata": {},
   "outputs": [],
   "source": []
  },
  {
   "cell_type": "code",
   "execution_count": null,
   "id": "0d6d61f4",
   "metadata": {},
   "outputs": [],
   "source": []
  },
  {
   "cell_type": "code",
   "execution_count": null,
   "id": "8dbe3232",
   "metadata": {},
   "outputs": [],
   "source": []
  },
  {
   "cell_type": "code",
   "execution_count": null,
   "id": "228cddb4",
   "metadata": {},
   "outputs": [],
   "source": []
  },
  {
   "cell_type": "code",
   "execution_count": null,
   "id": "56b64353",
   "metadata": {},
   "outputs": [],
   "source": []
  },
  {
   "cell_type": "code",
   "execution_count": null,
   "id": "627ad2ce",
   "metadata": {},
   "outputs": [],
   "source": []
  }
 ],
 "metadata": {
  "kernelspec": {
   "display_name": "conda_python3",
   "language": "python",
   "name": "conda_python3"
  },
  "language_info": {
   "codemirror_mode": {
    "name": "ipython",
    "version": 3
   },
   "file_extension": ".py",
   "mimetype": "text/x-python",
   "name": "python",
   "nbconvert_exporter": "python",
   "pygments_lexer": "ipython3",
   "version": "3.10.14"
  }
 },
 "nbformat": 4,
 "nbformat_minor": 5
}
