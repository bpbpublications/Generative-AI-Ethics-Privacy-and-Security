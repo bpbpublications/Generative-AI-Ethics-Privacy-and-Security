{
 "cells": [
  {
   "cell_type": "markdown",
   "id": "c0d44251",
   "metadata": {},
   "source": [
    "# Differential Privacy\n",
    "\n",
    "In the example below, \n",
    "\n",
    "- We have a sample dataset representing customer transaction data.\n",
    "\n",
    "- The add_laplace_noise() function adds Laplace noise to each data point in the dataset to ensure differential privacy. The scale parameter of the Laplace distribution is determined based on the sensitivity of the data and the privacy budget (epsilon).\n",
    "\n",
    "- We set a privacy budget (epsilon) to control the amount of noise added to the data. A smaller epsilon value corresponds to stronger privacy protection.\n",
    "\n",
    "- We then add Laplace noise to the original dataset using the add_laplace_noise() function.\n",
    "\n",
    "Finally, we display the original and noisy datasets to observe the effect of adding noise on the data."
   ]
  },
  {
   "cell_type": "code",
   "execution_count": 1,
   "id": "38a143cd",
   "metadata": {},
   "outputs": [],
   "source": [
    "import numpy as np\n"
   ]
  },
  {
   "cell_type": "code",
   "execution_count": 2,
   "id": "1c0dc986",
   "metadata": {},
   "outputs": [
    {
     "name": "stdout",
     "output_type": "stream",
     "text": [
      "Original Transactions: [100, 120, 80, 150, 90]\n",
      "Noisy Transactions: [96.9896011787184, 122.63811997796505, 84.5416874714817, 152.80073018864542, 92.95056932650616]\n"
     ]
    }
   ],
   "source": [
    "\n",
    "# Sample dataset (customer transaction data)\n",
    "customer_transactions = [100, 120, 80, 150, 90]\n",
    "\n",
    "# Define a function to add Laplace noise to the dataset\n",
    "def add_laplace_noise(data, epsilon):\n",
    "    # Calculate sensitivity (maximum change in output caused by adding or removing a single data point)\n",
    "    sensitivity = 1\n",
    "    \n",
    "    # Calculate scale parameter (b) based on sensitivity and privacy budget (epsilon)\n",
    "    scale = sensitivity / epsilon\n",
    "    \n",
    "    # Generate Laplace noise for each data point\n",
    "    noisy_data = [data_point + np.random.laplace(loc=0, scale=scale) for data_point in data]\n",
    "    \n",
    "    return noisy_data\n",
    "\n",
    "# Set privacy budget (epsilon)\n",
    "epsilon = 0.5\n",
    "\n",
    "# Add Laplace noise to the dataset\n",
    "noisy_transactions = add_laplace_noise(customer_transactions, epsilon)\n",
    "\n",
    "# Display original and noisy datasets\n",
    "print(\"Original Transactions:\", customer_transactions)\n",
    "print(\"Noisy Transactions:\", noisy_transactions)\n"
   ]
  },
  {
   "cell_type": "code",
   "execution_count": null,
   "id": "1cdfd259",
   "metadata": {},
   "outputs": [],
   "source": []
  }
 ],
 "metadata": {
  "kernelspec": {
   "display_name": "conda_python3",
   "language": "python",
   "name": "conda_python3"
  },
  "language_info": {
   "codemirror_mode": {
    "name": "ipython",
    "version": 3
   },
   "file_extension": ".py",
   "mimetype": "text/x-python",
   "name": "python",
   "nbconvert_exporter": "python",
   "pygments_lexer": "ipython3",
   "version": "3.10.13"
  }
 },
 "nbformat": 4,
 "nbformat_minor": 5
}
