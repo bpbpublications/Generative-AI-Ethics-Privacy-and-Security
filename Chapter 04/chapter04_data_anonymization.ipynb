{
 "cells": [
  {
   "cell_type": "markdown",
   "id": "9021b417",
   "metadata": {},
   "source": [
    "# Data anonymization \n",
    "\n",
    "In this example, we define a function anonymize_data() to anonymize personal information within the dataset. The function replaces names with pseudonyms (e.g., \"Patient1\", \"Patient2\"), masks the last four digits of Social Security Numbers, and partially masks the addresses by showing only the street number and masking the rest.\n",
    "\n",
    "However, depending on specific privacy requirements and regulations, organizations may need to implement additional anonymization techniques, such as encryption or tokenization, to further enhance data privacy and security."
   ]
  },
  {
   "cell_type": "code",
   "execution_count": null,
   "id": "ad1e3d31",
   "metadata": {},
   "outputs": [],
   "source": [
    "import pandas as pd\n"
   ]
  },
  {
   "cell_type": "code",
   "execution_count": 1,
   "id": "72805b39",
   "metadata": {},
   "outputs": [
    {
     "name": "stdout",
     "output_type": "stream",
     "text": [
      "Anonymized Dataset:\n",
      "       Name  Address Social Security Number\n",
      "0  Patient1  123 ***            ***-**-6789\n",
      "1  Patient2  456 ***            ***-**-4321\n",
      "2  Patient3  789 ***            ***-**-9123\n"
     ]
    }
   ],
   "source": [
    "\n",
    "# Sample dataset with personal information\n",
    "data = {\n",
    "    'Name': ['John Smith', 'Jane Doe', 'Alice Johnson'],\n",
    "    'Address': ['123 Main St', '456 Elm St', '789 Oak St'],\n",
    "    'Social Security Number': ['123-45-6789', '987-65-4321', '456-78-9123']\n",
    "}\n",
    "\n",
    "# Load dataset into a pandas DataFrame\n",
    "df = pd.DataFrame(data)\n",
    "\n",
    "# Define a function to anonymize personal information\n",
    "def anonymize_data(df):\n",
    "    # Anonymize names by replacing with pseudonyms\n",
    "    df['Name'] = ['Patient' + str(i+1) for i in range(len(df))]\n",
    "    \n",
    "    # Remove or mask Social Security Numbers\n",
    "    df['Social Security Number'] = df['Social Security Number'].apply(lambda x: '***-**-' + x[-4:])\n",
    "    \n",
    "    # Mask addresses for privacy\n",
    "    df['Address'] = df['Address'].apply(lambda x: x.split()[0] + ' ***')\n",
    "\n",
    "    return df\n",
    "\n",
    "# Anonymize personal information\n",
    "anonymized_df = anonymize_data(df)\n",
    "\n",
    "# Display anonymized dataset\n",
    "print(\"Anonymized Dataset:\")\n",
    "print(anonymized_df)\n"
   ]
  },
  {
   "cell_type": "code",
   "execution_count": null,
   "id": "24ee85a6",
   "metadata": {},
   "outputs": [],
   "source": []
  },
  {
   "cell_type": "code",
   "execution_count": null,
   "id": "7d83d967",
   "metadata": {},
   "outputs": [],
   "source": []
  }
 ],
 "metadata": {
  "kernelspec": {
   "display_name": "conda_python3",
   "language": "python",
   "name": "conda_python3"
  },
  "language_info": {
   "codemirror_mode": {
    "name": "ipython",
    "version": 3
   },
   "file_extension": ".py",
   "mimetype": "text/x-python",
   "name": "python",
   "nbconvert_exporter": "python",
   "pygments_lexer": "ipython3",
   "version": "3.10.13"
  }
 },
 "nbformat": 4,
 "nbformat_minor": 5
}
