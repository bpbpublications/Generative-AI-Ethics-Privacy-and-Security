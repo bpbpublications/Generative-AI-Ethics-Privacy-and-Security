{
 "cells": [
  {
   "cell_type": "markdown",
   "id": "604e141b",
   "metadata": {},
   "source": [
    "# Audit\n",
    "\n",
    "- The generate_content() function simulates the generation of content by a Generative AI system. For demonstration purposes, it generates random content that may contain personally identifiable information (PII) such as name, social security number (SSN), and address.\n",
    "\n",
    "- The audit_content() function audits the generated content for personal information by checking if it contains specific keywords (e.g., 'Name', 'SSN', 'Address').\n",
    "\n",
    "- The loop simulates conducting regular audits of generated content. It generates content using the generate_content() function and then audits each piece of generated content using the audit_content() function. \n",
    "\n",
    "If the audit detects any personal information in the content, it prints a message indicating a privacy breach; otherwise, it prints a message indicating no breach was detected."
   ]
  },
  {
   "cell_type": "code",
   "execution_count": 1,
   "id": "2b40f49e",
   "metadata": {},
   "outputs": [],
   "source": [
    "import random\n"
   ]
  },
  {
   "cell_type": "code",
   "execution_count": 2,
   "id": "1eaa8708",
   "metadata": {},
   "outputs": [
    {
     "name": "stdout",
     "output_type": "stream",
     "text": [
      "Privacy breach detected! Content: This is a randomly generated report. Name: John Doe, SSN: 123-45-6789, Address: 123 Main St.\n",
      "Privacy breach detected! Content: This is a randomly generated report. Name: John Doe, SSN: 123-45-6789, Address: 123 Main St.\n",
      "Privacy breach detected! Content: This is a randomly generated report. Name: John Doe, SSN: 123-45-6789, Address: 123 Main St.\n",
      "Privacy breach detected! Content: This is a randomly generated report. Name: John Doe, SSN: 123-45-6789, Address: 123 Main St.\n",
      "Privacy breach detected! Content: This is a randomly generated report. Name: John Doe, SSN: 123-45-6789, Address: 123 Main St.\n",
      "Privacy breach detected! Content: This is a randomly generated report. Name: John Doe, SSN: 123-45-6789, Address: 123 Main St.\n",
      "Privacy breach detected! Content: This is a randomly generated report. Name: John Doe, SSN: 123-45-6789, Address: 123 Main St.\n",
      "Privacy breach detected! Content: This is a randomly generated report. Name: John Doe, SSN: 123-45-6789, Address: 123 Main St.\n",
      "Privacy breach detected! Content: This is a randomly generated report. Name: John Doe, SSN: 123-45-6789, Address: 123 Main St.\n",
      "Privacy breach detected! Content: This is a randomly generated report. Name: John Doe, SSN: 123-45-6789, Address: 123 Main St.\n"
     ]
    }
   ],
   "source": [
    "\n",
    "# Sample function to generate AI-generated content\n",
    "def generate_content():\n",
    "    # Generate random content (for demonstration purposes)\n",
    "    content = \"This is a randomly generated report. Name: John Doe, SSN: 123-45-6789, Address: 123 Main St.\"\n",
    "    return content\n",
    "\n",
    "# Sample function to audit generated content for personal information\n",
    "def audit_content(content):\n",
    "    # Check if content contains personally identifiable information (PII)\n",
    "    if 'Name' in content or 'SSN' in content or 'Address' in content:\n",
    "        return True\n",
    "    else:\n",
    "        return False\n",
    "\n",
    "# Simulate conducting regular audits of generated content\n",
    "for i in range(10):  # Perform 10 audits for demonstration\n",
    "    # Generate AI-generated content\n",
    "    generated_content = generate_content()\n",
    "    \n",
    "    # Audit the generated content for personal information\n",
    "    if audit_content(generated_content):\n",
    "        print(\"Privacy breach detected! Content:\", generated_content)\n",
    "    else:\n",
    "        print(\"No privacy breach detected. Content:\", generated_content)\n"
   ]
  },
  {
   "cell_type": "code",
   "execution_count": null,
   "id": "29cf162d",
   "metadata": {},
   "outputs": [],
   "source": []
  },
  {
   "cell_type": "code",
   "execution_count": null,
   "id": "88479c2e",
   "metadata": {},
   "outputs": [],
   "source": []
  }
 ],
 "metadata": {
  "kernelspec": {
   "display_name": "conda_python3",
   "language": "python",
   "name": "conda_python3"
  },
  "language_info": {
   "codemirror_mode": {
    "name": "ipython",
    "version": 3
   },
   "file_extension": ".py",
   "mimetype": "text/x-python",
   "name": "python",
   "nbconvert_exporter": "python",
   "pygments_lexer": "ipython3",
   "version": "3.10.13"
  }
 },
 "nbformat": 4,
 "nbformat_minor": 5
}
