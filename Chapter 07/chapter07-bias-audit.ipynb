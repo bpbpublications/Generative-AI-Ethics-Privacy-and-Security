{
 "cells": [
  {
   "cell_type": "markdown",
   "id": "fc580fa4",
   "metadata": {},
   "source": [
    "# Bias Audit"
   ]
  },
  {
   "cell_type": "markdown",
   "id": "3d15105e",
   "metadata": {},
   "source": [
    "code snippet aims to analyze class distribution and demographic biases in a titanic dataset"
   ]
  },
  {
   "cell_type": "markdown",
   "id": "a9d3737f",
   "metadata": {},
   "source": [
    "Importing Libraries:\n",
    "\n",
    "1. pandas: Used for data manipulation and analysis.\n",
    "2. seaborn: Provides a high-level interface for drawing attractive statistical graphics.\n",
    "3. matplotlib.pyplot: Used to create visualizations."
   ]
  },
  {
   "cell_type": "code",
   "execution_count": null,
   "id": "d1cbdd3a",
   "metadata": {},
   "outputs": [],
   "source": [
    "import pandas as pd\n",
    "import seaborn as sns\n",
    "import matplotlib.pyplot as plt"
   ]
  },
  {
   "cell_type": "markdown",
   "id": "164c66ab",
   "metadata": {},
   "source": [
    "Loading the Dataset:\n",
    "\n",
    "The dataset is read using pd.read_csv('dataset.csv'). Replace 'dataset.csv' with the actual path to your dataset."
   ]
  },
  {
   "cell_type": "code",
   "execution_count": 2,
   "id": "c9fd20e0",
   "metadata": {},
   "outputs": [],
   "source": [
    "# Load the Titanic dataset\n",
    "data = sns.load_dataset('titanic')"
   ]
  },
  {
   "cell_type": "markdown",
   "id": "f56cf134",
   "metadata": {},
   "source": [
    "Class Distribution Analysis:\n",
    "\n",
    "value_counts(): Counts occurrences of each class in the target column.\n",
    "A bar plot is created using sns.barplot to visualize class imbalance, with class labels on the x-axis and their frequencies on the y-axis."
   ]
  },
  {
   "cell_type": "code",
   "execution_count": 3,
   "id": "f23c8f65",
   "metadata": {},
   "outputs": [],
   "source": [
    "\n",
    "\n",
    "# Check for class distribution\n",
    "target_column = 'survived'  # 'survived' is the target column in Titanic dataset\n",
    "class_counts = data[target_column].value_counts()\n"
   ]
  },
  {
   "cell_type": "markdown",
   "id": "fb1a09fb",
   "metadata": {},
   "source": [
    "Demographic Bias Analysis:\n",
    "\n",
    "1. The code checks for the presence of demographic columns (Gender, Ethnicity).\n",
    "2. For each demographic group, it calculates the normalized frequency of the target column classes using value_counts(normalize=True). This reveals how target classes are distributed across different demographics.\n",
    "3. The results are printed for manual inspection.\n"
   ]
  },
  {
   "cell_type": "code",
   "execution_count": 1,
   "id": "6c0fbb2f",
   "metadata": {},
   "outputs": [
    {
     "name": "stderr",
     "output_type": "stream",
     "text": [
      "/tmp/ipykernel_21198/975172261.py:13: FutureWarning: \n",
      "\n",
      "Passing `palette` without assigning `hue` is deprecated and will be removed in v0.14.0. Assign the `x` variable to `hue` and set `legend=False` for the same effect.\n",
      "\n",
      "  sns.barplot(x=class_counts.index, y=class_counts.values, palette='viridis')\n"
     ]
    },
    {
     "data": {
      "image/png": "[encoded data removed]",
      "text/plain": [
       "<Figure size 640x480 with 1 Axes>"
      ]
     },
     "metadata": {},
     "output_type": "display_data"
    },
    {
     "name": "stdout",
     "output_type": "stream",
     "text": [
      "Bias by Gender:\n",
      "survived         0         1\n",
      "sex                         \n",
      "female    0.257962  0.742038\n",
      "male      0.811092  0.188908\n",
      "Bias by Passenger Class:\n",
      "survived         0         1\n",
      "pclass                      \n",
      "1         0.370370  0.629630\n",
      "2         0.527174  0.472826\n",
      "3         0.757637  0.242363\n"
     ]
    }
   ],
   "source": [
    "\n",
    "# Visualize class imbalance\n",
    "sns.barplot(x=class_counts.index, y=class_counts.values, palette='viridis')\n",
    "plt.title('Class Distribution')\n",
    "plt.xlabel('Class Labels')\n",
    "plt.ylabel('Frequency')\n",
    "plt.show()\n",
    "\n",
    "# Analyze demographic distribution (e.g., 'Sex', 'Pclass')\n",
    "if 'sex' in data.columns:\n",
    "    gender_bias = data.groupby('sex')[target_column].value_counts(normalize=True).unstack()\n",
    "    print(\"Bias by Gender:\")\n",
    "    print(gender_bias)\n",
    "\n",
    "if 'pclass' in data.columns:\n",
    "    class_bias = data.groupby('pclass')[target_column].value_counts(normalize=True).unstack()\n",
    "    print(\"Bias by Passenger Class:\")\n",
    "    print(class_bias)\n"
   ]
  },
  {
   "cell_type": "code",
   "execution_count": null,
   "id": "5bf71e1e",
   "metadata": {},
   "outputs": [],
   "source": []
  },
  {
   "cell_type": "code",
   "execution_count": null,
   "id": "24795ea4",
   "metadata": {},
   "outputs": [],
   "source": []
  },
  {
   "cell_type": "code",
   "execution_count": null,
   "id": "e93a81b3",
   "metadata": {},
   "outputs": [],
   "source": []
  },
  {
   "cell_type": "code",
   "execution_count": null,
   "id": "7e1617b2",
   "metadata": {},
   "outputs": [],
   "source": []
  }
 ],
 "metadata": {
  "kernelspec": {
   "display_name": "conda_python3",
   "language": "python",
   "name": "conda_python3"
  },
  "language_info": {
   "codemirror_mode": {
    "name": "ipython",
    "version": 3
   },
   "file_extension": ".py",
   "mimetype": "text/x-python",
   "name": "python",
   "nbconvert_exporter": "python",
   "pygments_lexer": "ipython3",
   "version": "3.10.14"
  }
 },
 "nbformat": 4,
 "nbformat_minor": 5
}
